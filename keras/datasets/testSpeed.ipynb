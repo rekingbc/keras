{
 "cells": [
  {
   "cell_type": "code",
   "execution_count": 18,
   "metadata": {
    "collapsed": true,
    "deletable": true,
    "editable": true
   },
   "outputs": [],
   "source": [
    "import numpy as np\n",
    "import os\n",
    "import plyvel as ply\n",
    "from PIL import Image,ImageOps\n",
    "import random\n",
    "import sys\n",
    "import StringIO\n"
   ]
  },
  {
   "cell_type": "code",
   "execution_count": 19,
   "metadata": {
    "collapsed": true,
    "deletable": true,
    "editable": true
   },
   "outputs": [],
   "source": [
    "def load_db(db_path, img_size=(224,224)):\n",
    "    db = ply.DB(db_path, create_if_missing=True)\n",
    "    imglist = []\n",
    "    for key, value in db:\n",
    "        imgitem = value\n",
    "        img = Image.frombytes('RGB',img_size,imgitem)\n",
    "        imglist.append(img)\n",
    "\n",
    "    return imglist"
   ]
  },
  {
   "cell_type": "code",
   "execution_count": 20,
   "metadata": {
    "collapsed": true,
    "deletable": true,
    "editable": true
   },
   "outputs": [],
   "source": [
    "rootpath = \"/Users/rwa56/Downloads/tid2013/distorted_images/\"\n",
    "train_file = \"/Users/rwa56/project/tidtrain.txt\"\n",
    "db_path = \"/Users/rwa56/project/db/\"\n"
   ]
  },
  {
   "cell_type": "code",
   "execution_count": 21,
   "metadata": {
    "collapsed": false,
    "deletable": true,
    "editable": true
   },
   "outputs": [],
   "source": [
    "import time\n",
    "\n",
    "t0 = time.time()\n",
    "imgread = load_db(db_path)\n",
    "t1 = time.time()\n"
   ]
  },
  {
   "cell_type": "code",
   "execution_count": 22,
   "metadata": {
    "collapsed": false,
    "deletable": true,
    "editable": true
   },
   "outputs": [
    {
     "data": {
      "text/plain": [
       "0.6274731159210205"
      ]
     },
     "execution_count": 22,
     "metadata": {},
     "output_type": "execute_result"
    }
   ],
   "source": [
    "t1-t0"
   ]
  },
  {
   "cell_type": "code",
   "execution_count": 1,
   "metadata": {
    "collapsed": false,
    "deletable": true,
    "editable": true
   },
   "outputs": [
    {
     "name": "stderr",
     "output_type": "stream",
     "text": [
      "Using TensorFlow backend.\n"
     ]
    }
   ],
   "source": [
    "from __future__ import absolute_import\n",
    "import numpy as np\n",
    "import sys\n",
    "import os\n",
    "from keras.preprocessing.image import ImageDataGenerator, array_to_img, img_to_array, load_img\n",
    "import cPickle as pickle\n",
    "import re\n",
    "from scipy import linalg\n",
    "import scipy.ndimage as ndi\n",
    "from six.moves import range\n",
    "from keras import backend as K\n",
    "from PIL import Image,ImageOps\n",
    "import threading\n",
    "import warnings\n",
    "import theano\n",
    "\n",
    "def load_data():\n",
    "    dirname='/Users/rwa56/Downloads/tid2013/'\n",
    "    distortion='distorted_images/'\n",
    "    reference='reference_images/'\n",
    "    score='mos.txt'\n",
    "\n",
    "    size= 224, 224\n",
    "\n",
    "\n",
    "    DistortLabel = np.zeros((3000,3), dtype='float32')\n",
    "    RefLabel = np.zeros((25,1), dtype='float32')\n",
    "    label = [0, 0, 0]\n",
    "\n",
    "    DistortImg = np.zeros((3000, 224,224,3), dtype='uint8')\n",
    "    RefImg = np.zeros((25,224,224,3), dtype='uint8')\n",
    "    i = 0\n",
    "\n",
    "    for root, dirs, filenames in os.walk(dirname+distortion):\n",
    "        for imgfile in filenames:\n",
    "\n",
    "            img = Image.open(root+imgfile, 'r')\n",
    "            #print img.getbands()\n",
    "            #x = img_to_array(img)\n",
    "            #img.thumbnail(size, Image.ANTIALIAS)\n",
    "            img.thumbnail((224,224), Image.ANTIALIAS)\n",
    "\n",
    "            img = ImageOps.fit(img,(224,224), Image.ANTIALIAS)\n",
    "            if i == 0:\n",
    "                img.show()\n",
    "            #resizeimage.resize_cover(img, [256, 256])\n",
    "            #ImageOps.fit(img, size, Image.ANTIALIAS)\n",
    "            #img = tf.image.resize_images(img, size)\n",
    "           # testimg = np.asarray(img, dtype='float32')\n",
    "           # print testimg.shape\n",
    "\n",
    "            DistortImg[i,:,:,:] = np.asarray(img, dtype='float32')\n",
    "            #x = x.reshape((1,) + x.shape)\n",
    "            #print 'The imgfile is' +imgfile\n",
    "        #    x = 0.2126 * x0[:,:,0] + 0.7152 * x0[:,:,1] + 0.0722 * x0[:,:,2]\n",
    "            #print  x.shape\n",
    "\n",
    "            if(len(imgfile) < 12):\n",
    "                print 'The file: ' + imgfile\n",
    "            DistortLabel[i,0] = int(imgfile[1:3])\n",
    "            DistortLabel[i,1] = int(imgfile[4:6])\n",
    "            DistortLabel[i,2] = int(imgfile[7])\n",
    "\n",
    "            i = i + 1\n",
    "            #print label\n",
    "\n",
    "\n",
    "    j = 0\n",
    "\n",
    "    for root, dirs, filenames in os.walk(dirname+reference):\n",
    "        for imgfile in filenames:\n",
    "            #print filename\n",
    "            img = Image.open(root+imgfile, 'r')\n",
    "            #print img.getbands()\n",
    "            #x = img_to_array(img)\n",
    "            #img.thumbnail(size, Image.ANTIALIAS)\n",
    "            img.thumbnail((224,224), Image.ANTIALIAS)\n",
    "\n",
    "            img = ImageOps.fit(img,(224,224), Image.ANTIALIAS)\n",
    "\n",
    "            RefImg[j,:,:,:] = np.asarray(img, dtype='float32')\n",
    "            #x = x.reshape((1,) + x.shape)\n",
    "            #print 'The imgfile is' +imgfile\n",
    "    #        x = 0.2126 * x0[:,:,0] + 0.7152 * x0[:,:,1] + 0.0722 * x0[:,:,2]\n",
    "\n",
    "            RefLabel[j] = int(imgfile[1:3])\n",
    "            #RefLabel.append(label)\n",
    "            #print label\n",
    "            j = j + 1\n",
    "\n",
    "\n",
    "    ScoreLabel = open(dirname+score).read().splitlines()\n",
    "    ScoreLabel = map(float, ScoreLabel)\n",
    "    #print ScoreLabel\n",
    "\n",
    "    #print DistortImg[1]\n",
    "\n",
    "    return DistortImg, DistortLabel, RefImg, RefLabel, ScoreLabel"
   ]
  },
  {
   "cell_type": "code",
   "execution_count": 3,
   "metadata": {
    "collapsed": false
   },
   "outputs": [],
   "source": [
    "import time\n",
    "\n",
    "t2 = time.time()\n",
    "DistortImg, DistortLabel, RefImg, RefLabel, ScoreLabel = load_data()\n",
    "t3 = time.time()"
   ]
  },
  {
   "cell_type": "code",
   "execution_count": 4,
   "metadata": {
    "collapsed": false
   },
   "outputs": [
    {
     "data": {
      "text/plain": [
       "14.511088848114014"
      ]
     },
     "execution_count": 4,
     "metadata": {},
     "output_type": "execute_result"
    }
   ],
   "source": [
    "t3-t2"
   ]
  },
  {
   "cell_type": "code",
   "execution_count": 11,
   "metadata": {
    "collapsed": true
   },
   "outputs": [],
   "source": [
    "import lmdb\n",
    "def load_db(db_path,imgsize=(224,224)):\n",
    "    env = lmdb.open(db_path, readonly=True)\n",
    "    imglist=[]\n",
    "    with env.begin() as tdb:\n",
    "        cursor = tdb.cursor()\n",
    "        for key, value in cursor:\n",
    "            imgitem = value\n",
    "            img = Image.frombytes('RGB',imgsize,imgitem)\n",
    "            imglist.append(img)"
   ]
  },
  {
   "cell_type": "code",
   "execution_count": 12,
   "metadata": {
    "collapsed": true
   },
   "outputs": [],
   "source": [
    "lmdb_path = \"/Users/rwa56/project/ldb/\""
   ]
  },
  {
   "cell_type": "code",
   "execution_count": 13,
   "metadata": {
    "collapsed": false
   },
   "outputs": [],
   "source": [
    "import time\n",
    "\n",
    "t2 = time.time()\n",
    "load_db(lmdb_path)\n",
    "t3 = time.time()"
   ]
  },
  {
   "cell_type": "code",
   "execution_count": 14,
   "metadata": {
    "collapsed": false
   },
   "outputs": [
    {
     "data": {
      "text/plain": [
       "1.9998841285705566"
      ]
     },
     "execution_count": 14,
     "metadata": {},
     "output_type": "execute_result"
    }
   ],
   "source": [
    "t3-t2"
   ]
  },
  {
   "cell_type": "code",
   "execution_count": null,
   "metadata": {
    "collapsed": true
   },
   "outputs": [],
   "source": []
  }
 ],
 "metadata": {
  "kernelspec": {
   "display_name": "Python 2",
   "language": "python",
   "name": "python2"
  },
  "language_info": {
   "codemirror_mode": {
    "name": "ipython",
    "version": 2
   },
   "file_extension": ".py",
   "mimetype": "text/x-python",
   "name": "python",
   "nbconvert_exporter": "python",
   "pygments_lexer": "ipython2",
   "version": "2.7.13"
  }
 },
 "nbformat": 4,
 "nbformat_minor": 2
}
