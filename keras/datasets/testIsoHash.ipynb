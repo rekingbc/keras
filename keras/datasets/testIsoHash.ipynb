{
 "cells": [
  {
   "cell_type": "code",
   "execution_count": 1,
   "metadata": {
    "collapsed": true,
    "deletable": true,
    "editable": true
   },
   "outputs": [],
   "source": [
    "import numpy as np\n",
    "import os\n",
    "import plyvel as ply\n",
    "from PIL import Image, ImageOps\n",
    "import StringIO\n",
    "import gist\n",
    "from sklearn.decomposition import PCA\n",
    "\n",
    "def eigs_descend(X):\n",
    "    eig_vals, eig_vecs = np.linalg.eig(X)\n",
    "    # To get descending order, negate and sort in ascending order.\n",
    "    sequence = np.argsort(-eig_vals)\n",
    "    return eig_vecs[:, sequence]\n",
    "\n",
    "\n",
    "\n",
    "def isoHash_lp(Lambda, iter, vector_size):\n",
    "    a = np.trace(Lambda)/vector_size\n",
    "    # Getting random orthogonal matrix U.\n",
    "    R = np.random.random((vector_size, vector_size))\n",
    "    U, _, _ = np.linalg.svd(R, compute_uv=1)\n",
    "    Z = (U.dot(Lambda)).dot(U.T)\n",
    "\n",
    "    for i in range(iter):\n",
    "        # find T\n",
    "        T = Z\n",
    "        for j in range(vector_size):\n",
    "            T[j, j] = a\n",
    "        # find Z\n",
    "        Q = eigs_descend(T)\n",
    "        Z = (Q.dot(Lambda)).dot(Q.T)\n",
    "    Q = Q.T\n",
    "    return Q\n",
    "def write_feature(db_path, converted_db_path,count, method='isohashlp',\n",
    "    vector_size = 64, iter = 200):\n",
    "    # A very primitive implementation. Need to refactor the code if\n",
    "    # want to make it more versatile to a diversity of methods.\n",
    "    if method.lower() == 'isohashlp':\n",
    "        db = ply.DB(db_path)\n",
    "        # I think we cannot modify in place. Have to create a new database.\n",
    "        converted_db = ply.DB(converted_db_path, create_if_missing=True,\n",
    "         write_buffer_size=268435456)\n",
    "        # Assume we directly use the dimension 960 of gist. Can modify it later\n",
    "        gist_dim = 960\n",
    "        gists = np.zeros((gist_dim, count))\n",
    "        i = 0\n",
    "        with converted_db.write_batch() as converted_wb:\n",
    "            for key, value in db:\n",
    "                img = Image.frombytes('RGB', (224, 224), value)\n",
    "                img_data = np.asarray(img)\n",
    "\n",
    "                gistfeatures = gist.extract(img_data)\n",
    "                # The 960-dimensional gists, serving as inputs for isoHash.\n",
    "                # TODO: could have better implementation\n",
    "                gists[:, i] = gistfeatures\n",
    "                i += 1\n",
    "                if i%100 == 0:\n",
    "                    print i\n",
    "            # zero center the data\n",
    "            avg = np.sum(gists, axis=1)/count\n",
    "            avg = avg.reshape((gist_dim, 1))\n",
    "            gists = gists - avg\n",
    "            print \"before pca\"\n",
    "\n",
    "            # This PCA method is said to be inefficient. Can switch.\n",
    "            pca = PCA(n_components = vector_size)\n",
    "            gist_reduced = (pca.fit_transform(gists.T)).T\n",
    "            print \"after pca\"\n",
    "            # Each row is a Principal Component.\n",
    "            # gist_reduced is W^T*X\n",
    "            Lambda = np.dot(gist_reduced, gist_reduced.T)\n",
    "\n",
    "            Q = isoHash_lp(Lambda, iter, vector_size)\n",
    "            # TODO: Use sign function to get Y.\n",
    "            Y = (Q.T).dot(gist_reduced)\n",
    "            Y = (Y >= 0)*1\n",
    "            \n",
    "            i = 0\n",
    "            for key, value in db:\n",
    "               \n",
    "                converted_key = Y[:, i].tobytes()\n",
    "                converted_wb.put(converted_key, value)\n",
    "                if i%100 == 0:\n",
    "                    print i\n",
    "                i = i + 1"
   ]
  },
  {
   "cell_type": "code",
   "execution_count": 3,
   "metadata": {
    "collapsed": false,
    "deletable": true,
    "editable": true
   },
   "outputs": [],
   "source": [
    "def load_db(db_path, img_size=(224,224)):\n",
    "    db = ply.DB(db_path, create_if_missing=True)\n",
    "    imglist = []\n",
    "    for key, value in db():\n",
    "        imgitem = db.get(key)\n",
    "        img = Image.frombytes('RGB',img_size,imgtest)\n",
    "        imglist.append(img)\n",
    "\n",
    "    return imglist"
   ]
  },
  {
   "cell_type": "code",
   "execution_count": 4,
   "metadata": {
    "collapsed": true,
    "deletable": true,
    "editable": true
   },
   "outputs": [],
   "source": [
    "db_path = \"/Users/rwa56/project/leveldb/\"\n",
    "converted_db_path=\"/Users/rwa56/project/isodb/\"\n"
   ]
  },
  {
   "cell_type": "code",
   "execution_count": null,
   "metadata": {
    "collapsed": true
   },
   "outputs": [],
   "source": [
    "write_feature(db_path, converted_db_path,count=3000, method='isohashlp',\n",
    "    vector_size = 64, iter = 200)"
   ]
  },
  {
   "cell_type": "code",
   "execution_count": 3,
   "metadata": {
    "collapsed": false
   },
   "outputs": [
    {
     "ename": "NameError",
     "evalue": "name 'ply' is not defined",
     "output_type": "error",
     "traceback": [
      "\u001b[0;31m---------------------------------------------------------------------------\u001b[0m",
      "\u001b[0;31mNameError\u001b[0m                                 Traceback (most recent call last)",
      "\u001b[0;32m<ipython-input-3-d6948d71fac2>\u001b[0m in \u001b[0;36m<module>\u001b[0;34m()\u001b[0m\n\u001b[0;32m----> 1\u001b[0;31m \u001b[0mdb\u001b[0m \u001b[0;34m=\u001b[0m \u001b[0mply\u001b[0m\u001b[0;34m.\u001b[0m\u001b[0mDB\u001b[0m\u001b[0;34m(\u001b[0m\u001b[0mdb_path\u001b[0m\u001b[0;34m,\u001b[0m \u001b[0mcreate_if_missing\u001b[0m\u001b[0;34m=\u001b[0m\u001b[0mTrue\u001b[0m\u001b[0;34m)\u001b[0m\u001b[0;34m\u001b[0m\u001b[0m\n\u001b[0m",
      "\u001b[0;31mNameError\u001b[0m: name 'ply' is not defined"
     ]
    }
   ],
   "source": [
    "db = ply.DB(db_path, create_if_missing=True)"
   ]
  },
  {
   "cell_type": "code",
   "execution_count": 2,
   "metadata": {
    "collapsed": false
   },
   "outputs": [
    {
     "ename": "NameError",
     "evalue": "name 'db' is not defined",
     "output_type": "error",
     "traceback": [
      "\u001b[0;31m---------------------------------------------------------------------------\u001b[0m",
      "\u001b[0;31mNameError\u001b[0m                                 Traceback (most recent call last)",
      "\u001b[0;32m<ipython-input-2-5a77800cfe37>\u001b[0m in \u001b[0;36m<module>\u001b[0;34m()\u001b[0m\n\u001b[1;32m      1\u001b[0m \u001b[0mimglist\u001b[0m \u001b[0;34m=\u001b[0m \u001b[0;34m[\u001b[0m\u001b[0;34m]\u001b[0m\u001b[0;34m\u001b[0m\u001b[0m\n\u001b[0;32m----> 2\u001b[0;31m \u001b[0;32mfor\u001b[0m \u001b[0mkey\u001b[0m\u001b[0;34m,\u001b[0m \u001b[0mvalue\u001b[0m \u001b[0;32min\u001b[0m \u001b[0mdb\u001b[0m\u001b[0;34m:\u001b[0m\u001b[0;34m\u001b[0m\u001b[0m\n\u001b[0m\u001b[1;32m      3\u001b[0m         \u001b[0mimgitem\u001b[0m \u001b[0;34m=\u001b[0m \u001b[0mdb\u001b[0m\u001b[0;34m.\u001b[0m\u001b[0mget\u001b[0m\u001b[0;34m(\u001b[0m\u001b[0mkey\u001b[0m\u001b[0;34m)\u001b[0m\u001b[0;34m\u001b[0m\u001b[0m\n\u001b[1;32m      4\u001b[0m         \u001b[0mimg\u001b[0m \u001b[0;34m=\u001b[0m \u001b[0mImage\u001b[0m\u001b[0;34m.\u001b[0m\u001b[0mfrombytes\u001b[0m\u001b[0;34m(\u001b[0m\u001b[0;34m'RGB'\u001b[0m\u001b[0;34m,\u001b[0m\u001b[0;34m(\u001b[0m\u001b[0;36m224\u001b[0m\u001b[0;34m,\u001b[0m\u001b[0;36m224\u001b[0m\u001b[0;34m)\u001b[0m\u001b[0;34m,\u001b[0m\u001b[0mimgitem\u001b[0m\u001b[0;34m)\u001b[0m\u001b[0;34m\u001b[0m\u001b[0m\n\u001b[1;32m      5\u001b[0m         \u001b[0mimglist\u001b[0m\u001b[0;34m.\u001b[0m\u001b[0mappend\u001b[0m\u001b[0;34m(\u001b[0m\u001b[0mimg\u001b[0m\u001b[0;34m)\u001b[0m\u001b[0;34m\u001b[0m\u001b[0m\n",
      "\u001b[0;31mNameError\u001b[0m: name 'db' is not defined"
     ]
    }
   ],
   "source": [
    "imglist = []\n",
    "for key, value in db:\n",
    "        imgitem = db.get(key)\n",
    "        img = Image.frombytes('RGB',(224,224),imgitem)\n",
    "        imglist.append(img)\n"
   ]
  },
  {
   "cell_type": "code",
   "execution_count": null,
   "metadata": {
    "collapsed": true
   },
   "outputs": [],
   "source": [
    "gistfeatures = gist.extract(imglist[1])"
   ]
  },
  {
   "cell_type": "code",
   "execution_count": null,
   "metadata": {
    "collapsed": true
   },
   "outputs": [],
   "source": [
    "gist"
   ]
  }
 ],
 "metadata": {
  "kernelspec": {
   "display_name": "Python 2",
   "language": "python",
   "name": "python2"
  },
  "language_info": {
   "codemirror_mode": {
    "name": "ipython",
    "version": 2
   },
   "file_extension": ".py",
   "mimetype": "text/x-python",
   "name": "python",
   "nbconvert_exporter": "python",
   "pygments_lexer": "ipython2",
   "version": "2.7.13"
  }
 },
 "nbformat": 4,
 "nbformat_minor": 2
}
